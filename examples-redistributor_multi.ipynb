{
 "cells": [
  {
   "cell_type": "markdown",
   "metadata": {},
   "source": [
    "#  Redistributor_multi examples\n",
    "\n",
    "In this notebook, you can find examples on usage the Redistributor_multi class.\n",
    "This class gives you the power to apply multiple Redistributor objects at once on different slices of one input matrix. Makes use of parallelizm and has low memory footprint."
   ]
  },
  {
   "cell_type": "code",
   "execution_count": 2,
   "metadata": {},
   "outputs": [
    {
     "name": "stdout",
     "output_type": "stream",
     "text": [
      "Fitted.\n",
      "Transformed\n",
      "Inverse transformed.\n",
      "Inverse transform works: True\n"
     ]
    }
   ],
   "source": [
    "%matplotlib inline\n",
    "import numpy as np\n",
    "from redistributor import Redistributor\n",
    "from redistributor import Redistributor_multi\n",
    "\n",
    "# CONFIG\n",
    "GB = 1  # Size of training data\n",
    "bbox = (0, 1)  # Bbox of training data\n",
    "nsub = (1, 100, 5)  # Definition of matrix split (500 different subarrays)\n",
    "cpus = 0  # Set the number of cpus automatically\n",
    "params = {'bbox': bbox, 'validate_input': False}\n",
    "\n",
    "# Random training data\n",
    "x = np.random.rand(int(6250*GB), 100, 200)  \n",
    "c = x.copy()  # For validation of inverse_transform\n",
    "\n",
    "# Creating 500 redistributor objects, one for each subarray\n",
    "redistributors = np.array([Redistributor(**params) for i in range(np.prod(nsub))]).reshape(nsub)\n",
    "\n",
    "# Wrapping all redistributors in one Redistributor_multi\n",
    "rm = Redistributor_multi(redistributors, nsub, cpus=cpus)\n",
    "\n",
    "# Fitting\n",
    "rm.fit(x)\n",
    "print('Fitted.')\n",
    "\n",
    "# Transforming inplace\n",
    "rm.transform(x, inplace=True)\n",
    "print('Transformed')\n",
    "\n",
    "# Inverse transform inplace\n",
    "rm.inverse_transform(x, inplace=True)\n",
    "print('Inverse transformed.')\n",
    "\n",
    "print('Inverse transform works: {}'.format(np.allclose(x, c)))"
   ]
  },
  {
   "cell_type": "code",
   "execution_count": 5,
   "metadata": {},
   "outputs": [
    {
     "data": {
      "image/png": "[encoded data removed]",
      "text/plain": [
       "<Figure size 1080x144 with 1 Axes>"
      ]
     },
     "metadata": {},
     "output_type": "display_data"
    }
   ],
   "source": [
    "# Accessing the wrapped Redistributor objects (for examle on index [0,50,1])\n",
    "rm.redistributors[0,50,1].plot_transform_function()"
   ]
  }
 ],
 "metadata": {
  "kernelspec": {
   "display_name": "Python 3",
   "language": "python",
   "name": "python3"
  },
  "language_info": {
   "codemirror_mode": {
    "name": "ipython",
    "version": 3
   },
   "file_extension": ".py",
   "mimetype": "text/x-python",
   "name": "python",
   "nbconvert_exporter": "python",
   "pygments_lexer": "ipython3",
   "version": "3.5.2"
  }
 },
 "nbformat": 4,
 "nbformat_minor": 2
}
